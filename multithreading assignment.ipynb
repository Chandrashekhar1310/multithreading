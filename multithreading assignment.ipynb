{
 "cells": [
  {
   "cell_type": "markdown",
   "id": "9dbf63ae-e489-473f-a56d-9b0ccfc08333",
   "metadata": {},
   "source": [
    "# Q1. What is multithreading in python? Why is it used? Name the module used to handle threads in python"
   ]
  },
  {
   "cell_type": "markdown",
   "id": "e2d34e5a-6c25-4175-8371-ddc76c76c099",
   "metadata": {},
   "source": [
    "Multithreading in Python is a technique that allows a program to run multiple threads concurrently within a single process. Each thread runs independently and can execute a different task or function simultaneously, making the program more efficient and responsive.\n",
    "\n",
    "Multithreading is used in Python to improve the performance of a program by taking advantage of the available CPU cores and processing multiple tasks in parallel. It can be particularly useful for tasks that involve a lot of I/O operations, such as reading or writing data to disk or network, where the waiting time can be reduced by switching to other threads while waiting for the I/O to complete.\n",
    "\n",
    "The threading module is used to handle threads in Python. It provides a simple and easy-to-use interface to create and manage threads."
   ]
  },
  {
   "cell_type": "markdown",
   "id": "57550f65-02a8-4aa2-b27b-b472a77c97cf",
   "metadata": {},
   "source": [
    "# Q2. Why threading module used? Write the use of the following functions"
   ]
  },
  {
   "cell_type": "markdown",
   "id": "857afaa7-45da-4140-a48c-767d81d9a9a4",
   "metadata": {},
   "source": [
    "The threading module in Python is used for creating and managing threads in a multi-threaded application. It provides a simple and easy-to-use interface to work with threads and allows a program to execute multiple tasks concurrently within a single process. Here are some reasons why the threading module is commonly used:\n",
    "1. Improved performance\n",
    "2. Responsiveness\n",
    "3. Resource sharing"
   ]
  },
  {
   "cell_type": "markdown",
   "id": "7390bbbb-8ce0-4f7c-bee3-5248e5d1d1e0",
   "metadata": {},
   "source": [
    "# 1. activeCount"
   ]
  },
  {
   "cell_type": "markdown",
   "id": "507ff4a6-b086-4390-884d-54c25869c71e",
   "metadata": {},
   "source": [
    "activeCount is a method provided by the threading module in Python that returns the number of currently active thread objects in the current thread's thread hierarchy. This method is useful for debugging and monitoring purposes to get an idea of how many threads are running at a given time.\n",
    "\n",
    "The activeCount method returns an integer value, which represents the number of active threads, including the main thread. For example, if the main thread and three additional threads are running in a program, the activeCount method will return 4."
   ]
  },
  {
   "cell_type": "markdown",
   "id": "d51a9e63-25ef-4889-a67c-a2e4fd76e414",
   "metadata": {},
   "source": [
    "# 2. currentThread"
   ]
  },
  {
   "cell_type": "markdown",
   "id": "cbb055e7-92d3-46a7-8cd5-322b49926c0d",
   "metadata": {},
   "source": [
    "currentThread is a method provided by the threading module in Python that returns a Thread object representing the current thread of execution. The method is used to obtain a reference to the current thread, which can be useful for debugging and monitoring purposes.\n",
    "\n",
    "The currentThread method returns a Thread object, which has various attributes and methods that can be used to obtain information about the thread. For example, the name attribute can be used to get the name of the thread, and the ident attribute can be used to get the thread's identifier."
   ]
  },
  {
   "cell_type": "markdown",
   "id": "10f9e65d-4859-419e-ac19-ffc30a47f4b3",
   "metadata": {},
   "source": [
    "# 3. enumerate"
   ]
  },
  {
   "cell_type": "markdown",
   "id": "b5a3c3a2-de95-43c4-bf43-b5a9e2b0b4bf",
   "metadata": {},
   "source": [
    "enumerate is a built-in Python function that is often used in conjunction with the for loop to iterate over a sequence while keeping track of the index of the current item. The function takes an iterable as its argument and returns an iterator that produces tuples containing the index and the corresponding item of the iterable."
   ]
  },
  {
   "cell_type": "markdown",
   "id": "75ca4c3c-efc3-4d80-b237-7d4d4bc22f94",
   "metadata": {},
   "source": [
    "# 3. Explain the following functions\n",
    "# a) run()\n",
    "# b) start()\n",
    "# c) join()\n",
    "# d) isAlive()"
   ]
  },
  {
   "cell_type": "markdown",
   "id": "f96d6a3d-518b-43d4-aadd-c3a70215ca58",
   "metadata": {},
   "source": [
    "run() - This method is called when a thread starts executing. You can override this method in a subclass of Thread to define the behavior of the thread. By default, the run() method does nothing.\n",
    "\n",
    "start() - This method is called to start a new thread of execution. When called, it creates a new thread and starts executing the thread's run() method. It is an error to call this method more than once on the same thread object.\n",
    "\n",
    "join() - This method blocks the calling thread until the thread associated with the method call completes its execution. If the optional timeout parameter is specified, the method blocks for at most that many seconds. This method is useful for waiting until a thread has completed its work before continuing execution in the calling thread.\n",
    "\n",
    "isAlive() - This method returns a boolean indicating whether the thread is currently alive. A thread is considered alive from the moment it is created until it completes its run() method. Once a thread has completed its run() method, it is no longer considered alive."
   ]
  },
  {
   "cell_type": "markdown",
   "id": "518abc91-dd3f-4822-a6af-9d6676d503a8",
   "metadata": {},
   "source": [
    "# Q4. Write a python program to create two threads. Thread one must print the list of squares and thread two must print the list of cubes"
   ]
  },
  {
   "cell_type": "code",
   "execution_count": 1,
   "id": "1ee7a6b1-e64d-4a05-82df-7b41d68136a6",
   "metadata": {},
   "outputs": [
    {
     "name": "stdout",
     "output_type": "stream",
     "text": [
      "0 squared is 0\n",
      "1 squared is 1\n",
      "2 squared is 4\n",
      "3 squared is 9\n",
      "4 squared is 16\n",
      "5 squared is 25\n",
      "6 squared is 36\n",
      "7 squared is 49\n",
      "8 squared is 64\n",
      "9 squared is 81\n",
      "0 cubed is 0\n",
      "1 cubed is 1\n",
      "2 cubed is 8\n",
      "3 cubed is 27\n",
      "4 cubed is 64\n",
      "5 cubed is 125\n",
      "6 cubed is 216\n",
      "7 cubed is 343\n",
      "8 cubed is 512\n",
      "9 cubed is 729\n",
      "Both threads have finished\n"
     ]
    }
   ],
   "source": [
    "import threading\n",
    "\n",
    "def print_squares():\n",
    "    for i in range(10):\n",
    "        print(f\"{i} squared is {i*i}\")\n",
    "\n",
    "def print_cubes():\n",
    "    for i in range(10):\n",
    "        print(f\"{i} cubed is {i*i*i}\")\n",
    "\n",
    "if __name__ == \"__main__\":\n",
    "    t1 = threading.Thread(target=print_squares)\n",
    "    t2 = threading.Thread(target=print_cubes)\n",
    "\n",
    "    t1.start()\n",
    "    t2.start()\n",
    "\n",
    "    t1.join()\n",
    "    t2.join()\n",
    "\n",
    "    print(\"Both threads have finished\")\n"
   ]
  },
  {
   "cell_type": "markdown",
   "id": "6a000b5e-5a2d-4993-a6d8-fbe93fd05bad",
   "metadata": {},
   "source": [
    "# Q5. State advantages and disadvantages of multithreading"
   ]
  },
  {
   "cell_type": "markdown",
   "id": "2550a886-5d08-49dc-b2e2-6131aa85d84f",
   "metadata": {},
   "source": [
    "Multithreading has several advantages and disadvantages. Here are some of the key points:\n",
    "\n",
    "Advantages:\n",
    "\n",
    "Improved performance: Multithreading can improve the performance of an application by allowing it to utilize multiple CPU cores simultaneously.\n",
    "\n",
    "Responsiveness: Multithreading can make an application more responsive, because it allows long-running tasks to be executed in the background while the main thread handles user input and other tasks.\n",
    "\n",
    "Resource sharing: Multithreading allows multiple threads to share resources, such as memory and I/O devices, without requiring complex coordination.\n",
    "\n",
    "Modular design: Multithreading can make it easier to design modular applications, because different threads can be responsible for different tasks, which can be easier to manage than a single monolithic thread.\n",
    "\n",
    "Disadvantages:\n",
    "\n",
    "Complexity: Multithreading can make an application more complex, because it requires careful coordination between threads to avoid problems like deadlocks and race conditions.\n",
    "\n",
    "Debugging: Multithreaded applications can be more difficult to debug, because bugs can be hard to reproduce and may depend on the timing and interaction of multiple threads.\n",
    "\n",
    "Overhead: Creating and managing threads requires overhead in terms of memory and processing time, which can be a problem in some applications."
   ]
  },
  {
   "cell_type": "markdown",
   "id": "880b776c-09eb-47d9-b043-2f61e707ee6b",
   "metadata": {},
   "source": [
    "# Q6. Explain deadlocks and race conditions."
   ]
  },
  {
   "cell_type": "code",
   "execution_count": null,
   "id": "70640668-e096-4f0d-bca1-9a42e705a6a3",
   "metadata": {},
   "outputs": [],
   "source": []
  }
 ],
 "metadata": {
  "kernelspec": {
   "display_name": "Python 3 (ipykernel)",
   "language": "python",
   "name": "python3"
  },
  "language_info": {
   "codemirror_mode": {
    "name": "ipython",
    "version": 3
   },
   "file_extension": ".py",
   "mimetype": "text/x-python",
   "name": "python",
   "nbconvert_exporter": "python",
   "pygments_lexer": "ipython3",
   "version": "3.10.8"
  }
 },
 "nbformat": 4,
 "nbformat_minor": 5
}
